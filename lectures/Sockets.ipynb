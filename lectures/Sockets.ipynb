{
 "cells": [
  {
   "cell_type": "markdown",
   "metadata": {},
   "source": [
    "## What are sockets?"
   ]
  },
  {
   "cell_type": "markdown",
   "metadata": {},
   "source": [
    "- we will stick to TCP (or STREAM) sockets and to INET (or IPV4) sockets\n",
    "- a client program only has a client socket\n",
    "- a server program has both client and server sockets: the server socket is the thing that sits and listens for connections, spawning a client socket to deal with them."
   ]
  },
  {
   "cell_type": "markdown",
   "metadata": {},
   "source": [
    "### Why do we care?\n",
    "\n",
    "- we'll need it for the client communications for our database\n",
    "- you will want to know how to use them to make custom data servers and clients. We provide here an example of a no-copy numpy array sharing over tcp sockets."
   ]
  },
  {
   "cell_type": "markdown",
   "metadata": {},
   "source": [
    "### A simple server and its client"
   ]
  },
  {
   "cell_type": "code",
   "execution_count": 77,
   "metadata": {
    "collapsed": false
   },
   "outputs": [
    {
     "name": "stdout",
     "output_type": "stream",
     "text": [
      "Overwriting server0.py\n"
     ]
    }
   ],
   "source": [
    "%%file server0.py\n",
    "from socket import *\n",
    "s = socket(AF_INET, SOCK_STREAM)\n",
    "s.bind(('', 25000))\n",
    "s.listen(1)\n",
    "c,a = s.accept()"
   ]
  },
  {
   "cell_type": "markdown",
   "metadata": {},
   "source": [
    "- `s` here is a server socket. It binds to '', or any address on this machine, and port 25000. \n",
    "- Low number ports are reserved by system services, only root can create them.\n",
    "- listen tells the socker to queue in only `1` request here before refusing outside connections. 5-10 is plenty, if your code is well written\n",
    "- `accept` creates a client socket `c` with address `a`"
   ]
  },
  {
   "cell_type": "code",
   "execution_count": 10,
   "metadata": {
    "collapsed": false
   },
   "outputs": [
    {
     "name": "stdout",
     "output_type": "stream",
     "text": [
      "Overwriting client0.py\n"
     ]
    }
   ],
   "source": [
    "%%file client0.py\n",
    "from socket import *\n",
    "c = socket(AF_INET, SOCK_STREAM)\n",
    "c.connect(('localhost', 25000))"
   ]
  },
  {
   "cell_type": "markdown",
   "metadata": {},
   "source": [
    "From the client:\n",
    "\n",
    "- when you are `connect`ed the socket `c` can be used to send in a request or to recieve some data. \n",
    "- This socket will read the response and then be destroyed. Client sockets are one-shot\n",
    "- the client's client socket and server's client socket are the same type of thing, so you need to decide \"who calls whom\""
   ]
  },
  {
   "cell_type": "markdown",
   "metadata": {},
   "source": [
    "Communication happens using some variant of `send` and `recv`, or `read` and `write` as we saw in the crawler earlier when we had given a file like object to our sockets. As with the latter, for the former it is your responsibility to call and call again until the buffers are full. We do that below, with the slight difference that we are reading into already allocated buffers."
   ]
  },
  {
   "cell_type": "markdown",
   "metadata": {},
   "source": [
    "### Sharing data with sockets"
   ]
  },
  {
   "cell_type": "code",
   "execution_count": 9,
   "metadata": {
    "collapsed": false
   },
   "outputs": [
    {
     "name": "stdout",
     "output_type": "stream",
     "text": [
      "Overwriting client0.py\n"
     ]
    }
   ],
   "source": [
    "%%file client0.py\n",
    "import numpy as np\n",
    "from socket import *\n",
    "\n",
    "\n",
    "def recv_into(arr, source):\n",
    "    view = memoryview(arr).cast('B') \n",
    "    while len(view):\n",
    "        nrecv = source.recv_into(view)\n",
    "        print(\"recieved\", nrecv)\n",
    "        view = view[nrecv:]\n",
    "            \n",
    "c = socket(AF_INET, SOCK_STREAM)\n",
    "c.connect(('localhost', 25000))\n",
    "a = np.zeros(shape=50000000, dtype=float)\n",
    "print(a[0:10])\n",
    "recv_into(a, c)\n",
    "print(a[0:10])"
   ]
  },
  {
   "cell_type": "code",
   "execution_count": 8,
   "metadata": {
    "collapsed": false
   },
   "outputs": [
    {
     "name": "stdout",
     "output_type": "stream",
     "text": [
      "Overwriting server0.py\n"
     ]
    }
   ],
   "source": [
    "%%file server0.py\n",
    "from socket import *\n",
    "import numpy as np\n",
    "\n",
    "def send_from(arr, dest):\n",
    "    view = memoryview(arr).cast('B') \n",
    "    while len(view):\n",
    "        nsent = dest.send(view)\n",
    "        view = view[nsent:]\n",
    "            \n",
    "\n",
    "s = socket(AF_INET, SOCK_STREAM)\n",
    "s.bind(('', 25000))\n",
    "s.listen(1)\n",
    "c,addr = s.accept()\n",
    "a = np.arange(0.0, 50000000.0)\n",
    "send_from(a, c)"
   ]
  },
  {
   "cell_type": "markdown",
   "metadata": {},
   "source": [
    "In this case we have choden to have the server \"write-to\" the client. We could have had the client request the server. We'll do that next"
   ]
  },
  {
   "cell_type": "markdown",
   "metadata": {},
   "source": [
    "Notice that so far we have not tried to keep the server socket persistent. We'll do this next as well. But first let us write the cacnonical echo server. We can test this with `telnet`."
   ]
  },
  {
   "cell_type": "markdown",
   "metadata": {},
   "source": [
    "### The canonical echo server"
   ]
  },
  {
   "cell_type": "code",
   "execution_count": 42,
   "metadata": {
    "collapsed": false
   },
   "outputs": [
    {
     "name": "stdout",
     "output_type": "stream",
     "text": [
      "Overwriting echo_server.py\n"
     ]
    }
   ],
   "source": [
    "%%file echo_server.py\n",
    "from socket import socket, AF_INET, SOCK_STREAM\n",
    "\n",
    "def echo_handler(address, client_sock):\n",
    "    print('Got connection from {}'.format(address)) \n",
    "    while True:\n",
    "        msg = client_sock.recv(2)\n",
    "        print(len(msg))\n",
    "        if not msg:\n",
    "            print(\"broke\")\n",
    "            break\n",
    "        client_sock.sendall(msg+b\"||||\")\n",
    "    client_sock.close()\n",
    "\n",
    "def echo_server(address, backlog=5): \n",
    "    sock = socket(AF_INET, SOCK_STREAM) \n",
    "    sock.bind(address) \n",
    "    sock.listen(backlog)\n",
    "    while True:\n",
    "        client_sock, client_addr = sock.accept() \n",
    "        echo_handler(client_addr, client_sock)\n",
    "        \n",
    "if __name__ == '__main__': \n",
    "    echo_server(('', 20001))"
   ]
  },
  {
   "cell_type": "markdown",
   "metadata": {},
   "source": [
    "### Making the server persistent"
   ]
  },
  {
   "cell_type": "code",
   "execution_count": 51,
   "metadata": {
    "collapsed": false
   },
   "outputs": [
    {
     "name": "stdout",
     "output_type": "stream",
     "text": [
      "Overwriting server1.py\n"
     ]
    }
   ],
   "source": [
    "%%file server1.py\n",
    "from socket import *\n",
    "import numpy as np\n",
    "\n",
    "a = np.arange(0.0, 50000000.0)\n",
    "\n",
    "def send_from(arr, dest):\n",
    "    view = memoryview(arr).cast('B') \n",
    "    while len(view):\n",
    "        nsent = dest.send(view)\n",
    "        view = view[nsent:]\n",
    "            \n",
    "def handle(csock):\n",
    "    msg = b\"\"\n",
    "    while True:\n",
    "        recvd = csock.recv(2)#chosen to be large enough\n",
    "        print(\"recieved\", recvd)\n",
    "        if not recvd: # handle close\n",
    "            break\n",
    "        msg += recvd\n",
    "        if len(msg)==10:\n",
    "            break\n",
    "    offset, numele=msg.decode().split(':')\n",
    "    offset=int(offset)\n",
    "    numele=int(numele)\n",
    "    send_from(a[offset:offset+numele], csock)\n",
    "    csock.close()\n",
    "        \n",
    "def array_server(address_tuple, backlog=1):\n",
    "    s = socket(AF_INET, SOCK_STREAM)\n",
    "    s.setsockopt(SOL_SOCKET, SO_REUSEADDR, 1)\n",
    "    s.bind(address_tuple)\n",
    "    s.listen(backlog)\n",
    "    \n",
    "    while True:\n",
    "        csock,caddr = s.accept()\n",
    "        print(\"got connection from {}\".format(caddr))\n",
    "        handle(csock)\n",
    "    s.close()\n",
    "\n",
    "array_server(('', 25000))"
   ]
  },
  {
   "cell_type": "code",
   "execution_count": 52,
   "metadata": {
    "collapsed": false
   },
   "outputs": [
    {
     "name": "stdout",
     "output_type": "stream",
     "text": [
      "Overwriting client1.py\n"
     ]
    }
   ],
   "source": [
    "%%file client1.py\n",
    "import numpy as np\n",
    "from socket import *\n",
    "offset=5000\n",
    "num_wanted=10000\n",
    "\n",
    "def recv_into(arr, source):\n",
    "    view = memoryview(arr).cast('B') \n",
    "    while len(view):\n",
    "        nrecv = source.recv_into(view)\n",
    "        print(\"recieved\", nrecv)\n",
    "        view = view[nrecv:]\n",
    "            \n",
    "\n",
    "c = socket(AF_INET, SOCK_STREAM)\n",
    "c.connect(('localhost', 25000))\n",
    "mybytes=str.encode(\"{}:{}\".format(offset, num_wanted))\n",
    "print(len(mybytes))\n",
    "c.send(mybytes)\n",
    "a = np.zeros(shape=num_wanted, dtype=float)\n",
    "print(a[0:10])\n",
    "recv_into(a, c)\n",
    "print(a[0:10])"
   ]
  },
  {
   "cell_type": "markdown",
   "metadata": {},
   "source": [
    "## Using the socket server module"
   ]
  },
  {
   "cell_type": "code",
   "execution_count": 57,
   "metadata": {
    "collapsed": false
   },
   "outputs": [
    {
     "name": "stdout",
     "output_type": "stream",
     "text": [
      "Writing echo_server2.py\n"
     ]
    }
   ],
   "source": [
    "%%file echo_server2.py\n",
    "from socketserver import BaseRequestHandler, TCPServer\n",
    "\n",
    "class EchoHandler(BaseRequestHandler): \n",
    "    def handle(self):\n",
    "        print('Got connection from', self.client_address) \n",
    "        while True:\n",
    "            msg = self.request.recv(8192)\n",
    "            if not msg:\n",
    "                break\n",
    "            self.request.send(msg)\n",
    "            \n",
    "if __name__ == '__main__':\n",
    "    serv = TCPServer(('', 20000), EchoHandler) \n",
    "    serv.serve_forever()"
   ]
  },
  {
   "cell_type": "code",
   "execution_count": 58,
   "metadata": {
    "collapsed": false
   },
   "outputs": [
    {
     "name": "stdout",
     "output_type": "stream",
     "text": [
      "Overwriting echo_client.py\n"
     ]
    }
   ],
   "source": [
    "%%file echo_client.py\n",
    "import sys\n",
    "from socket import socket, AF_INET, SOCK_STREAM\n",
    "s = socket(AF_INET, SOCK_STREAM)\n",
    "s.connect(('localhost', 20000))\n",
    "s.send(sys.argv[1].encode())\n",
    "print(s.recv(8192))"
   ]
  },
  {
   "cell_type": "markdown",
   "metadata": {},
   "source": [
    "### Threaded implementations"
   ]
  },
  {
   "cell_type": "code",
   "execution_count": 59,
   "metadata": {
    "collapsed": false
   },
   "outputs": [
    {
     "name": "stdout",
     "output_type": "stream",
     "text": [
      "Writing echo_server3.py\n"
     ]
    }
   ],
   "source": [
    "%%file echo_server3.py\n",
    "from socketserver import BaseRequestHandler, ThreadingTCPServer\n",
    "\n",
    "class EchoHandler(BaseRequestHandler): \n",
    "    def handle(self):\n",
    "        print('Got connection from', self.client_address) \n",
    "        while True:\n",
    "            msg = self.request.recv(8192)\n",
    "            if not msg:\n",
    "                break\n",
    "            self.request.send(msg)\n",
    "            \n",
    "if __name__ == '__main__':\n",
    "    serv = ThreadingTCPServer(('', 20000), EchoHandler) \n",
    "    serv.serve_forever()"
   ]
  },
  {
   "cell_type": "code",
   "execution_count": 62,
   "metadata": {
    "collapsed": false
   },
   "outputs": [
    {
     "name": "stdout",
     "output_type": "stream",
     "text": [
      "Overwriting echo_server4.py\n"
     ]
    }
   ],
   "source": [
    "%%file echo_server4.py\n",
    "from socketserver import BaseRequestHandler, TCPServer\n",
    "\n",
    "class EchoHandler(BaseRequestHandler): \n",
    "    def handle(self):\n",
    "        print('Got connection from', self.client_address) \n",
    "        while True:\n",
    "            msg = self.request.recv(8192)\n",
    "            if not msg:\n",
    "                break\n",
    "            self.request.send(msg)\n",
    "\n",
    "if __name__ == '__main__':\n",
    "    from threading import Thread\n",
    "    NWORKERS = 16\n",
    "    TCPServer.allow_reuse_address = True\n",
    "    serv = TCPServer(('', 20000), EchoHandler) \n",
    "    \n",
    "    for n in range(NWORKERS):\n",
    "            t = Thread(target=serv.serve_forever)\n",
    "            t.daemon = True\n",
    "            t.start()\n",
    "    serv.serve_forever()"
   ]
  },
  {
   "cell_type": "markdown",
   "metadata": {},
   "source": [
    "## Asyncio\n",
    "\n",
    "### The Streams way\n",
    "\n",
    "This is the higher level api."
   ]
  },
  {
   "cell_type": "code",
   "execution_count": 73,
   "metadata": {
    "collapsed": false
   },
   "outputs": [
    {
     "name": "stdout",
     "output_type": "stream",
     "text": [
      "Overwriting echo_server_streams_asyncio.py\n"
     ]
    }
   ],
   "source": [
    "%%file echo_server_streams_asyncio.py\n",
    "\n",
    "import asyncio\n",
    "\n",
    "#reader is of type StreamReader, writer of type StreamWriter\n",
    "async def handle_echo(reader, writer):\n",
    "    #coroutine reads data from client\n",
    "    data = await reader.read(8192)\n",
    "    message = data.decode()\n",
    "    addr = writer.get_extra_info('peername')\n",
    "    print(\"Received %r from %r\" % (message, addr))\n",
    "\n",
    "    print(\"Send: %r\" % message)\n",
    "    writer.write(data) # NOT a coroutine\n",
    "    await writer.drain() #coroutine flushes write buffer\n",
    "\n",
    "    print(\"Close the client socket\")\n",
    "    writer.close()\n",
    "\n",
    "loop = asyncio.get_event_loop()\n",
    "coro = asyncio.start_server(handle_echo, '', 20000, loop=loop)\n",
    "\n",
    "#drive server coroutine\n",
    "server = loop.run_until_complete(coro)\n",
    "\n",
    "# Serve requests until Ctrl+C is pressed: this runs event loop\n",
    "print('Serving on {}'.format(server.sockets[0].getsockname()))\n",
    "try:\n",
    "    loop.run_forever()\n",
    "except KeyboardInterrupt:\n",
    "    pass\n",
    "\n",
    "# Close the server\n",
    "server.close()\n",
    "#inside the brackets is a future. The loop waits until all is closed.\n",
    "loop.run_until_complete(server.wait_closed())\n",
    "loop.close()"
   ]
  },
  {
   "cell_type": "code",
   "execution_count": 74,
   "metadata": {
    "collapsed": false
   },
   "outputs": [
    {
     "name": "stdout",
     "output_type": "stream",
     "text": [
      "Overwriting echo_client_streams_asyncio.py\n"
     ]
    }
   ],
   "source": [
    "%%file echo_client_streams_asyncio.py\n",
    "import asyncio\n",
    "import sys\n",
    "\n",
    "async def tcp_echo_client(message, loop):\n",
    "    reader, writer = await asyncio.open_connection('', 20000,\n",
    "                                                        loop=loop)\n",
    "\n",
    "    print('Send: %r' % message)\n",
    "    writer.write(message.encode())\n",
    "\n",
    "    data = await reader.read(8192)\n",
    "    print('Received: %r' % data.decode())\n",
    "\n",
    "    print('Close the socket')\n",
    "    writer.close()\n",
    "\n",
    "message = sys.argv[1]\n",
    "loop = asyncio.get_event_loop()\n",
    "loop.run_until_complete(tcp_echo_client(message, loop))\n",
    "loop.close()"
   ]
  },
  {
   "cell_type": "markdown",
   "metadata": {},
   "source": [
    "### The protocols way\n",
    "\n",
    "This is the (lower level) callbacks based api that the asyncip library exposes."
   ]
  },
  {
   "cell_type": "code",
   "execution_count": 76,
   "metadata": {
    "collapsed": false
   },
   "outputs": [
    {
     "name": "stdout",
     "output_type": "stream",
     "text": [
      "Writing echo_server_protocols_asyncio.py\n"
     ]
    }
   ],
   "source": [
    "%%file echo_server_protocols_asyncio.py\n",
    "\n",
    "import asyncio\n",
    "\n",
    "class EchoServerClientProtocol(asyncio.Protocol):\n",
    "    def connection_made(self, transport):\n",
    "        peername = transport.get_extra_info('peername')\n",
    "        print('Connection from {}'.format(peername))\n",
    "        self.transport = transport\n",
    "\n",
    "    def data_received(self, data):\n",
    "        message = data.decode()\n",
    "        print('Data received: {!r}'.format(message))\n",
    "\n",
    "        print('Send: {!r}'.format(message))\n",
    "        self.transport.write(data)\n",
    "\n",
    "        print('Close the client socket')\n",
    "        self.transport.close()\n",
    "\n",
    "loop = asyncio.get_event_loop()\n",
    "# Each client connection will create a new protocol instance\n",
    "coro = loop.create_server(EchoServerClientProtocol, '', 20000)\n",
    "server = loop.run_until_complete(coro)\n",
    "\n",
    "# Serve requests until Ctrl+C is pressed\n",
    "print('Serving on {}'.format(server.sockets[0].getsockname()))\n",
    "try:\n",
    "    loop.run_forever()\n",
    "except KeyboardInterrupt:\n",
    "    pass\n",
    "\n",
    "# Close the server\n",
    "server.close()\n",
    "loop.run_until_complete(server.wait_closed())\n",
    "loop.close()\n"
   ]
  },
  {
   "cell_type": "markdown",
   "metadata": {},
   "source": [
    "From docs:\n",
    ">Transport.close() can be called immediately after WriteTransport.write() even if data are not sent yet on the socket: both methods are asynchronous. yield from is not needed because these transport methods are not coroutines."
   ]
  },
  {
   "cell_type": "code",
   "execution_count": 75,
   "metadata": {
    "collapsed": false
   },
   "outputs": [
    {
     "name": "stdout",
     "output_type": "stream",
     "text": [
      "Writing echo_client_protocols_asyncio.py\n"
     ]
    }
   ],
   "source": [
    "%%file echo_client_protocols_asyncio.py\n",
    "\n",
    "import asyncio\n",
    "import sys\n",
    "\n",
    "class EchoClientProtocol(asyncio.Protocol):\n",
    "    def __init__(self, message, loop):\n",
    "        self.message = message\n",
    "        self.loop = loop\n",
    "\n",
    "    def connection_made(self, transport):\n",
    "        transport.write(self.message.encode())\n",
    "        print('Data sent: {!r}'.format(self.message))\n",
    "\n",
    "    def data_received(self, data):\n",
    "        print('Data received: {!r}'.format(data.decode()))\n",
    "\n",
    "    def connection_lost(self, exc):\n",
    "        print('The server closed the connection')\n",
    "        print('Stop the event loop')\n",
    "        self.loop.stop()\n",
    "\n",
    "loop = asyncio.get_event_loop()\n",
    "message = sys.argv[1]\n",
    "coro = loop.create_connection(lambda: EchoClientProtocol(message, loop),\n",
    "                              '127.0.0.1', 20000)\n",
    "loop.run_until_complete(coro)\n",
    "loop.run_forever()\n",
    "loop.close()"
   ]
  },
  {
   "cell_type": "markdown",
   "metadata": {},
   "source": [
    "From the docs:\n",
    ">The event loop is running twice. The run_until_complete() method is preferred in this short example to raise an exception if the server is not listening, instead of having to write a short coroutine to handle the exception and stop the running loop. At run_until_complete() exit, the loop is no longer running, so there is no need to stop the loop in case of an error."
   ]
  },
  {
   "cell_type": "code",
   "execution_count": null,
   "metadata": {
    "collapsed": true
   },
   "outputs": [],
   "source": []
  }
 ],
 "metadata": {
  "kernelspec": {
   "display_name": "Python 3",
   "language": "python",
   "name": "python3"
  },
  "language_info": {
   "codemirror_mode": {
    "name": "ipython",
    "version": 3
   },
   "file_extension": ".py",
   "mimetype": "text/x-python",
   "name": "python",
   "nbconvert_exporter": "python",
   "pygments_lexer": "ipython3",
   "version": "3.5.1"
  }
 },
 "nbformat": 4,
 "nbformat_minor": 0
}
