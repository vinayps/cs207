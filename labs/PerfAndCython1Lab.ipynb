{
 "cells": [
  {
   "cell_type": "markdown",
   "metadata": {},
   "source": [
    "We'll go back to our Julia example for the lab. We re-produce our last step here..."
   ]
  },
  {
   "cell_type": "code",
   "execution_count": 1,
   "metadata": {
    "collapsed": true
   },
   "outputs": [],
   "source": [
    "from collections import namedtuple\n",
    "Box = namedtuple(\"Box\", \"x1 x2 y1 y2\")\n",
    "bounds = Box(-1.8, 1.8, -1.8, 1.8)\n",
    "focus=complex(-0.62772, -.42193)\n",
    "gridsize=1000\n",
    "iters=300\n",
    "\n",
    "def setup_grid(gridsize, box):\n",
    "    xstep = (box.x2 - box.x1)/(gridsize - 1.0)\n",
    "    ystep = (box.y2 - box.y1)/(gridsize - 1.0)\n",
    "    xs = (box.x1+ i* xstep for i in range(gridsize))\n",
    "    zs=[]\n",
    "    for x in xs:\n",
    "        ys = (box.y1+ i* ystep for i in range(gridsize))\n",
    "        for y in ys:\n",
    "            zs.append(complex(x,y))\n",
    "    return zs\n",
    "\n",
    "def zts1(maxiter, zs, c): \n",
    "    output = [0] * len(zs)\n",
    "    for i,z in enumerate(zs):\n",
    "        n=0\n",
    "        while n < maxiter and abs(z) < 2:\n",
    "            z=z*z+c\n",
    "            n+=1 \n",
    "        output[i] = n\n",
    "    return output\n",
    "\n",
    "def run1():\n",
    "    zs = setup_grid(gridsize, bounds)\n",
    "    out = zts1(iters, zs, focus)\n",
    "    return zs, out"
   ]
  },
  {
   "cell_type": "markdown",
   "metadata": {},
   "source": [
    "If you remember, profiling found that `zts1` needed speeding up..."
   ]
  },
  {
   "cell_type": "code",
   "execution_count": 2,
   "metadata": {
    "collapsed": false
   },
   "outputs": [
    {
     "name": "stdout",
     "output_type": "stream",
     "text": [
      "5 loops, best of 1: 11 s per loop\n"
     ]
    }
   ],
   "source": [
    "%timeit -r 1 -n 5 run1()"
   ]
  },
  {
   "cell_type": "markdown",
   "metadata": {},
   "source": [
    "### Q1\n",
    "\n",
    "What speedup do you get from simply cythonizing `zts1`, with no annotations at all?"
   ]
  },
  {
   "cell_type": "code",
   "execution_count": null,
   "metadata": {
    "collapsed": true
   },
   "outputs": [],
   "source": [
    "%%cython --annotate\n",
    "def zts1_cython(maxiter, zs, c): \n",
    "    #your code here"
   ]
  },
  {
   "cell_type": "markdown",
   "metadata": {},
   "source": [
    "### Q2\n",
    "\n",
    "Keeping `zts1` a `def` function, and leaving out `output` and `zs`, type annotate as many variables as you can. For complex numbers, use the type `double complex`. Create the function `zts1_cython2`"
   ]
  },
  {
   "cell_type": "code",
   "execution_count": null,
   "metadata": {
    "collapsed": true
   },
   "outputs": [],
   "source": [
    "#your code here"
   ]
  },
  {
   "cell_type": "code",
   "execution_count": null,
   "metadata": {
    "collapsed": true
   },
   "outputs": [],
   "source": [
    "def run2():\n",
    "    zs = setup_grid(gridsize, bounds)\n",
    "    out = zts1_cython2(iters, zs, focus)\n",
    "    return zs, out"
   ]
  },
  {
   "cell_type": "code",
   "execution_count": null,
   "metadata": {
    "collapsed": true
   },
   "outputs": [],
   "source": [
    "%timeit -r 1 -n 5 run2()"
   ]
  },
  {
   "cell_type": "markdown",
   "metadata": {},
   "source": [
    "### Q3.\n",
    "\n",
    "Replace the `abs` function in the `while` by an equivalent condition which does not require a square root (needed for `abs`. \n",
    "\n",
    "This equivalent but specialized code is called a **strength reduction**. You have lost flexibility and meaning in readability for faster speed."
   ]
  },
  {
   "cell_type": "code",
   "execution_count": null,
   "metadata": {
    "collapsed": true
   },
   "outputs": [],
   "source": [
    "#your code here"
   ]
  },
  {
   "cell_type": "code",
   "execution_count": null,
   "metadata": {
    "collapsed": true
   },
   "outputs": [],
   "source": [
    "def run3():\n",
    "    zs = setup_grid(gridsize, bounds)\n",
    "    out = zts1_cython3(iters, zs, focus)\n",
    "    return zs, out"
   ]
  },
  {
   "cell_type": "code",
   "execution_count": null,
   "metadata": {
    "collapsed": true
   },
   "outputs": [],
   "source": [
    "%timeit -r 1 -n 5 run3()"
   ]
  },
  {
   "cell_type": "markdown",
   "metadata": {},
   "source": [
    "### Q4.\n",
    "\n",
    "Turn off bounds-checking (see cython docs for how). Does it make much of a difference? Why?"
   ]
  },
  {
   "cell_type": "code",
   "execution_count": null,
   "metadata": {
    "collapsed": true
   },
   "outputs": [],
   "source": [
    "def run4():\n",
    "    zs = setup_grid(gridsize, bounds)\n",
    "    out = zts1_cython4(iters, zs, focus)\n",
    "    return zs, out\n",
    "%timeit -r 1 -n 5 run4()"
   ]
  }
 ],
 "metadata": {
  "kernelspec": {
   "display_name": "Python 3",
   "language": "python",
   "name": "python3"
  },
  "language_info": {
   "codemirror_mode": {
    "name": "ipython",
    "version": 3
   },
   "file_extension": ".py",
   "mimetype": "text/x-python",
   "name": "python",
   "nbconvert_exporter": "python",
   "pygments_lexer": "ipython3",
   "version": "3.5.1"
  }
 },
 "nbformat": 4,
 "nbformat_minor": 0
}
